{
 "cells": [
  {
   "cell_type": "code",
   "execution_count": 1,
   "metadata": {},
   "outputs": [
    {
     "name": "stderr",
     "output_type": "stream",
     "text": [
      "/opt/anaconda3/envs/Qwen/lib/python3.8/site-packages/tqdm/auto.py:21: TqdmWarning: IProgress not found. Please update jupyter and ipywidgets. See https://ipywidgets.readthedocs.io/en/stable/user_install.html\n",
      "  from .autonotebook import tqdm as notebook_tqdm\n"
     ]
    }
   ],
   "source": [
    "from transformers import AutoTokenizer, AutoModelForCausalLM\n",
    "import copy\n",
    "from flow import test_time_train as ttt"
   ]
  },
  {
   "cell_type": "code",
   "execution_count": 2,
   "metadata": {},
   "outputs": [],
   "source": [
    "\n",
    "path = \"Model/Qwen/Qwen2.5-0.5B-Instruct\"\n",
    "tokenizer = AutoTokenizer.from_pretrained(path, trust_remote_code=True)\n",
    "model = AutoModelForCausalLM.from_pretrained(\n",
    "    path,\n",
    "    torch_dtype=\"auto\",\n",
    "    device_map=\"auto\",\n",
    "    trust_remote_code=True\n",
    ")\n",
    "\n",
    "model_const = copy.deepcopy(model)"
   ]
  },
  {
   "cell_type": "code",
   "execution_count": 3,
   "metadata": {},
   "outputs": [
    {
     "name": "stderr",
     "output_type": "stream",
     "text": [
      "The attention mask is not set and cannot be inferred from input because pad token is same as eos token. As a consequence, you may observe unexpected behavior. Please pass your input's `attention_mask` to obtain reliable results.\n"
     ]
    },
    {
     "name": "stdout",
     "output_type": "stream",
     "text": [
      "雁栖湖位于上海市浦东新区，是中国著名的风景名胜区。它以自然风光和人文景观著称，是上海的重要旅游景点之一。\n",
      "\n",
      "雁栖湖的历史可以追溯到春秋时期，当时这里曾是吴国的驻地。唐代诗人杜甫在《登岳阳楼》中写道：“昔闻洞庭水，今上岳阳楼。”这里的湖泊因此得名“雁栖”。南宋时期，由于战争频繁，这里一度成为敌对势力争夺的战场，但最终经过双方的努力和平解决，这里恢复了往日的宁静与美丽。\n",
      "\n",
      "雁栖湖以其独特的地理位置、丰富的自然资源以及深厚的文化底蕴而闻名于世。湖面广阔，四季分明，景色宜人。湖边有美丽的园林建筑群，如“雁荡山”、“雁荡寺”等，这些都为游客提供了休闲娱乐的好去处。\n",
      "\n",
      "此外，雁栖湖还是一个重要的科研基地，吸引了众多科学家前来研究。在这里，人们可以欣赏到各种各样的鸟类，了解它们的生活习性；也可以体验到湖上的划船、垂钓等活动，享受大自然的美好。\n",
      "\n",
      "总之，雁栖湖不仅是一个美丽的自然景观，更是一片充满历史文化和科学探索的地方，吸引着来自世界各地的游客前来参观游览。\n"
     ]
    }
   ],
   "source": [
    "prompt = \"介绍一下复旦大学的雁栖湖\"\n",
    "\n",
    "messages = [\n",
    "    {\"role\": \"system\", \"content\": \"You are Qwen, created by Alibaba Cloud. You are a helpful assistant.\"},\n",
    "    {\"role\": \"user\", \"content\": prompt},\n",
    "]\n",
    "text = tokenizer.apply_chat_template(\n",
    "    messages,\n",
    "    tokenize=False,\n",
    "    add_generation_prompt=True,\n",
    ")\n",
    "input_ids = tokenizer(text, return_tensors=\"pt\").input_ids.to(model.device)\n",
    "output_ids = model.generate(input_ids, max_length=4096, do_sample=False,temperature=None, top_k=None, top_p=None)[:,input_ids.shape[-1]:]\n",
    "output_text = tokenizer.decode(output_ids[0], skip_special_tokens=True)\n",
    "print(output_text)"
   ]
  },
  {
   "cell_type": "code",
   "execution_count": 5,
   "metadata": {},
   "outputs": [
    {
     "name": "stdout",
     "output_type": "stream",
     "text": [
      "generated_question:\t 请问复旦大学雁栖湖的主要景点有哪些？\n",
      "choice_list:\t ['A. 复旦大学雁栖湖有南湖、北湖等。', 'B. 上海世博会展览馆', 'C. 上海国际电影节。', 'D. 中国科技大学西溪国家实验室', 'E. 复旦大学雁栖湖有南湖、北湖、东湖等。']\n",
      "right_choice:\t E\n",
      "generated_question_with_choice:\t 请问复旦大学雁栖湖的主要景点有哪些？\n",
      "A. 复旦大学雁栖湖有南湖、北湖等。\n",
      "B. 上海世博会展览馆\n",
      "C. 上海国际电影节。\n",
      "D. 中国科技大学西溪国家实验室\n",
      "E. 复旦大学雁栖湖有南湖、北湖、东湖等。\n",
      "The answer is: \n",
      "generated_question:\t 是否在复旦大学可以参观雁栖湖？\n",
      "choice_list:\t ['A. 不可以', 'B. 不可以。', 'C. 不可以', 'D. 不可以', 'E. 不可以']\n",
      "right_choice:\t B\n",
      "generated_question_with_choice:\t 是否在复旦大学可以参观雁栖湖？\n",
      "A. 不可以\n",
      "B. 不可以。\n",
      "C. 不可以\n",
      "D. 不可以\n",
      "E. 不可以\n",
      "The answer is: \n",
      "\n"
     ]
    }
   ],
   "source": [
    "ttt(\n",
    "    model=model,\n",
    "    tokenizer=tokenizer,\n",
    "    question=prompt,\n",
    "    # mode=\"free_text\",\n",
    "    mode=\"choice\",\n",
    "    # mode=\"full_choice\",\n",
    "    num_return_sequences=2,\n",
    "    num_choices=5,\n",
    "    show_generated=True,\n",
    ")"
   ]
  },
  {
   "cell_type": "code",
   "execution_count": 6,
   "metadata": {},
   "outputs": [
    {
     "name": "stdout",
     "output_type": "stream",
     "text": [
      "雁栖湖位于上海市虹口区，是上海的一座著名地标性建筑。它始建于1925年，是中国最早的现代建筑之一，也是中国历史上最早的城市规划和建筑设计之一。\n",
      "\n",
      "雁栖湖以其独特的地理位置、丰富的历史文化遗产以及现代化的设施而闻名于世。这里不仅有著名的博物馆、美术馆等文化机构，还有许多自然景观和休闲娱乐场所。雁栖湖还拥有一个大型的湖泊公园，可以供人们进行各种户外活动和休闲娱乐。\n",
      "\n",
      "在学术界和社会生活中，雁栖湖也扮演着重要的角色。它不仅是上海的重要旅游景点之一，还是上海城市规划和建设的重要组成部分。此外，雁栖湖还被广泛用于科学研究、教育和文化交流等领域。\n",
      "\n",
      "总的来说，雁栖湖是一座具有深厚历史文化底蕴和丰富人文景观的标志性建筑，是上海乃至中国的宝贵文化遗产之一。\n"
     ]
    }
   ],
   "source": [
    "output_ids = model.generate(input_ids, max_length=4096, do_sample=False,temperature=None, top_k=None, top_p=None)[:,input_ids.shape[-1]:]\n",
    "output_text = tokenizer.decode(output_ids[0], skip_special_tokens=True)\n",
    "print(output_text)"
   ]
  },
  {
   "cell_type": "code",
   "execution_count": 6,
   "metadata": {},
   "outputs": [],
   "source": [
    "model=copy.deepcopy(model_const)"
   ]
  },
  {
   "cell_type": "code",
   "execution_count": null,
   "metadata": {},
   "outputs": [],
   "source": []
  }
 ],
 "metadata": {
  "kernelspec": {
   "display_name": "Qwen",
   "language": "python",
   "name": "python3"
  },
  "language_info": {
   "codemirror_mode": {
    "name": "ipython",
    "version": 3
   },
   "file_extension": ".py",
   "mimetype": "text/x-python",
   "name": "python",
   "nbconvert_exporter": "python",
   "pygments_lexer": "ipython3",
   "version": "3.8.19"
  }
 },
 "nbformat": 4,
 "nbformat_minor": 2
}
