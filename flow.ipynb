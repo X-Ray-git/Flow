{
 "cells": [
  {
   "cell_type": "code",
   "execution_count": null,
   "metadata": {},
   "outputs": [
    {
     "name": "stderr",
     "output_type": "stream",
     "text": [
      "/opt/anaconda3/envs/Qwen/lib/python3.8/site-packages/tqdm/auto.py:21: TqdmWarning: IProgress not found. Please update jupyter and ipywidgets. See https://ipywidgets.readthedocs.io/en/stable/user_install.html\n",
      "  from .autonotebook import tqdm as notebook_tqdm\n"
     ]
    }
   ],
   "source": [
    "from transformers import AutoTokenizer, AutoModelForCausalLM\n",
    "import copy\n",
    "from flow import test_time_train as ttt\n",
    "import torch"
   ]
  },
  {
   "cell_type": "code",
   "execution_count": null,
   "metadata": {},
   "outputs": [],
   "source": [
    "path = \"/Model/Qwen/Qwen2.5-7B-Instruct\"\n",
    "tokenizer = AutoTokenizer.from_pretrained(path, trust_remote_code=True)\n",
    "model = AutoModelForCausalLM.from_pretrained(\n",
    "    path,\n",
    "    torch_dtype=\"auto\",\n",
    "    device_map=\"auto\",\n",
    "    trust_remote_code=True\n",
    ")"
   ]
  },
  {
   "cell_type": "code",
   "execution_count": null,
   "metadata": {},
   "outputs": [
    {
     "name": "stderr",
     "output_type": "stream",
     "text": [
      "The attention mask is not set and cannot be inferred from input because pad token is same as eos token. As a consequence, you may observe unexpected behavior. Please pass your input's `attention_mask` to obtain reliable results.\n"
     ]
    },
    {
     "name": "stdout",
     "output_type": "stream",
     "text": [
      "雁栖湖位于上海市浦东新区，是中国著名的风景名胜区。它以自然风光和人文景观著称，是上海的重要旅游景点之一。\n",
      "\n",
      "雁栖湖的历史可以追溯到春秋时期，当时这里曾是吴国的驻地。唐代诗人杜甫在《登岳阳楼》中写道：“昔闻洞庭水，今上岳阳楼。”这里的湖泊因此得名“雁栖”。南宋时期，由于战争频繁，这里一度成为敌对势力争夺的战场，但最终经过双方的努力和平解决，这里恢复了往日的宁静与美丽。\n",
      "\n",
      "雁栖湖以其独特的地理位置、丰富的自然资源以及深厚的文化底蕴而闻名于世。湖面广阔，四季分明，景色宜人。湖边有美丽的园林建筑群，如“雁荡山”、“雁荡寺”等，这些都为游客提供了休闲娱乐的好去处。\n",
      "\n",
      "此外，雁栖湖还是一个重要的科研基地，吸引了众多科学家前来研究。在这里，人们可以欣赏到各种各样的鸟类，了解它们的生活习性；也可以体验到湖上的划船、垂钓等活动，享受大自然的美好。\n",
      "\n",
      "总之，雁栖湖不仅是一个美丽的自然景观，更是一片充满历史文化和科学探索的地方，吸引着来自世界各地的游客前来参观游览。\n"
     ]
    }
   ],
   "source": [
    "prompt = \"介绍一下复旦大学的雁栖湖\"\n",
    "\n",
    "messages = [\n",
    "    {\"role\": \"system\", \"content\": \"You are Qwen, created by Alibaba Cloud. You are a helpful assistant.\"},\n",
    "    {\"role\": \"user\", \"content\": prompt},\n",
    "]\n",
    "text = tokenizer.apply_chat_template(\n",
    "    messages,\n",
    "    tokenize=False,\n",
    "    add_generation_prompt=True,\n",
    ")\n",
    "\n",
    "with torch.no_grad():\n",
    "    model_input = tokenizer(text, return_tensors=\"pt\")\n",
    "    input_ids = model_input.input_ids.to(model.device)\n",
    "    attention_mask = model_input.attention_mask.to(model.device)\n",
    "    output_ids = model.generate(input_ids, max_length=4096, do_sample=False, temperature=None, top_k=None, top_p=None, attention_mask=attention_mask)[:,input_ids.shape[-1]:]\n",
    "    output_text = tokenizer.decode(output_ids[0], skip_special_tokens=True)\n",
    "    print(output_text)"
   ]
  },
  {
   "cell_type": "code",
   "execution_count": null,
   "metadata": {},
   "outputs": [
    {
     "name": "stdout",
     "output_type": "stream",
     "text": [
      "generated_question:\t 介绍复旦大学的中山公园？\n",
      "choice_list:\t ['A. 北京大学中山公园位于北京市海淀区学院路。', 'B. 复旦大学位于上海市。', 'C. 清华大学', 'D. 中山公园位于复旦大学校园内。', 'E. 北京大学中山公园位于北京市海淀区。']\n",
      "right_choice:\t D\n",
      "generated_question_with_choice:\t 介绍复旦大学的中山公园？\n",
      "A. 北京大学中山公园位于北京市海淀区学院路。\n",
      "B. 复旦大学位于上海市。\n",
      "C. 清华大学\n",
      "D. 中山公园位于复旦大学校园内。\n",
      "E. 北京大学中山公园位于北京市海淀区。\n",
      "The answer is: \n",
      "generated_question:\t 请问复旦大学的哪个校区位于雁栖湖？\n",
      "choice_list:\t ['A. 复旦大学不是位于雁栖湖的校区。', 'B. 清华大学位于北京，其校园位于北京市海淀区。', 'C. 北京大学位于上海，其校园位于上海市静安区。', 'D. 复旦大学位于上海，其校园位于上海市静安区。', 'E. 复旦大学位于上海，其校园位于上海市徐汇区。']\n",
      "right_choice:\t E\n",
      "generated_question_with_choice:\t 请问复旦大学的哪个校区位于雁栖湖？\n",
      "A. 复旦大学不是位于雁栖湖的校区。\n",
      "B. 清华大学位于北京，其校园位于北京市海淀区。\n",
      "C. 北京大学位于上海，其校园位于上海市静安区。\n",
      "D. 复旦大学位于上海，其校园位于上海市静安区。\n",
      "E. 复旦大学位于上海，其校园位于上海市徐汇区。\n",
      "The answer is: \n",
      "\n"
     ]
    }
   ],
   "source": [
    "ttt(\n",
    "    model=model,\n",
    "    tokenizer=tokenizer,\n",
    "    question=prompt,\n",
    "    mode=\"free_text\",\n",
    "    # mode=\"choice\",\n",
    "    # mode=\"full_choice\",\n",
    "    num_return_sequences=10,\n",
    "    num_choices=5,\n",
    "    show_generated=True,\n",
    ")"
   ]
  },
  {
   "cell_type": "code",
   "execution_count": null,
   "metadata": {},
   "outputs": [
    {
     "name": "stdout",
     "output_type": "stream",
     "text": [
      "雁栖湖位于上海市虹口区，是中国著名的风景名胜区。它以雄伟壮观、景色宜人而闻名于世。雁栖湖以其独特的自然风光和深厚的文化底蕴吸引了无数游客前来游览。\n",
      "\n",
      "雁栖湖的历史可以追溯到明朝时期，当时这里曾是皇家园林之一。清朝时期，随着上海的开发，雁栖湖逐渐成为了一处重要的旅游景点。1985年，国家旅游局将雁栖湖列为全国重点文物保护单位，并将其纳入了中国十大名胜之列。\n",
      "\n",
      "雁栖湖不仅有美丽的自然景观，还有丰富的历史文化内涵。湖面广阔，湖水清澈见底，湖边绿树成荫，湖中还有一座古老的石桥，桥上雕刻着精美的图案，为游客提供了欣赏美景的好去处。此外，湖畔还分布着许多古建筑，如明代的石拱桥、清代的石牌坊等，这些都体现了中国古代建筑艺术的独特魅力。\n",
      "\n",
      "雁栖湖不仅是上海的一张名片，也是中国文化和自然遗产的重要组成部分。每年吸引着来自世界各地的游客前来观光、休闲、度假，成为了上海乃至中国的旅游热点之一。\n"
     ]
    }
   ],
   "source": [
    "with torch.no_grad():\n",
    "    output_ids = model.generate(input_ids, max_length=4096, do_sample=False, temperature=None, top_k=None, top_p=None, attention_mask=attention_mask)[:,input_ids.shape[-1]:]\n",
    "    output_text = tokenizer.decode(output_ids[0], skip_special_tokens=True)\n",
    "    print(output_text)"
   ]
  }
 ],
 "metadata": {
  "kernelspec": {
   "display_name": "Qwen",
   "language": "python",
   "name": "python3"
  },
  "language_info": {
   "codemirror_mode": {
    "name": "ipython",
    "version": 3
   },
   "file_extension": ".py",
   "mimetype": "text/x-python",
   "name": "python",
   "nbconvert_exporter": "python",
   "pygments_lexer": "ipython3",
   "version": "3.8.19"
  }
 },
 "nbformat": 4,
 "nbformat_minor": 2
}
